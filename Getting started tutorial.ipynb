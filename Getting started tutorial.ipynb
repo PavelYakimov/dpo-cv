{
  "cells":[
    {
      "cell_type":"code",
      "source":[
        "print(\"Hello from Datalore!\")"
      ],
      "execution_count":null,
      "outputs":[
        
      ],
      "metadata":{
        
      }
    },
    {
      "cell_type":"markdown",
      "source":[
        "# Getting Started Notebook\n",
        "\n",
        "Welcome to Datalore! This tutorial will help you understand the basics of the platform and start working with it.\n",
        "\n",
        "**Datalore** is a powerful environment for Jupyter notebooks, developed by JetBrains.\n",
        "\n",
        "An online version is available for everyone, and we also offer [on-premises and private cloud installations](https:\/\/www.jetbrains.com\/datalore\/enterprise\/) for companies.\n",
        "\n",
        "This notebook is a great place place to get started, and you can always [check out our Documentation](https:\/\/www.jetbrains.com\/help\/datalore\/datalore-quickstart.html) from *Help|Documentation* if you want to learn more specifics about the features. "
      ],
      "attachments":{
        
      },
      "metadata":{
        
      }
    },
    {
      "cell_type":"code",
      "source":[
        "message = \"Everything starts from a notebook 🚀\""
      ],
      "execution_count":null,
      "outputs":[
        
      ],
      "metadata":{
        
      }
    },
    {
      "cell_type":"markdown",
      "source":[
        "## Notebook editor\n",
        "\n",
        "You should start by creating a notebook via ***File|New notebook***.\n",
        "\n",
        "<div><img src=\"https:\/\/datalore-samples.s3.eu-west-1.amazonaws.com\/datalore_gallery_of_samples\/Getting+started\/New_notebook.png\" width = 500 border=\"1\" style=\"border-color: #d3d3d3; margin-top: 1%;\"\/><\/div>\n",
        "\n",
        "You can also import an existing `.ipynb` file or create a new one from your *Home* workspace page.\n",
        "\n",
        "Datalore supports both the **Python** and **Kotlin** programming languages, with support for more languages coming in the near future."
      ],
      "attachments":{
        
      },
      "metadata":{
        
      }
    },
    {
      "cell_type":"markdown",
      "source":[
        "### Cells\n",
        "\n",
        "Inside the notebook you can add:\n",
        "- Python code cells, where you can use powerful coding assistance features such as code completion, quick-fixes, documentation pop-ups, refactorings, and more. Code cells also support IPython magic commands.\n",
        "- Markdown cells with a text formatting toolbar and LaTex support.\n",
        "- Interactive controls:\n",
        "    - Sliders\n",
        "    - Dropdowns\n",
        "    - Text inputs\n",
        "\n",
        "\n",
        "To add a new cell, hover over the bottom center of a cell and choose the cell type you want to add.\n",
        "\n",
        "Check out the [Shortcuts 101](attachment:.\/#Shortcuts-101) tab for a collection of the most useful shortcuts in Datalore."
      ],
      "attachments":{
        
      },
      "metadata":{
        
      }
    },
    {
      "cell_type":"markdown",
      "source":[
        "### Table of contents\n",
        "\n",
        "You can always access the Table of contents from the left side-bar inside the editor.\n",
        "\n",
        "<div><img src=\"https:\/\/datalore-samples.s3.eu-west-1.amazonaws.com\/datalore_gallery_of_samples\/Getting+started\/Table_of_contents.png\" width = 300 border=\"1\" style=\"border-color: #d3d3d3; margin-top: 1%;\"\/><\/div>"
      ],
      "attachments":{
        
      },
      "metadata":{
        
      }
    },
    {
      "cell_type":"markdown",
      "source":[
        "# Working with data\n",
        "\n",
        "Datalore comes with integrated **persistent storage**. This means that when you upload files to a notebook or workspace, they won't be lost after you close and reopen Datalore."
      ],
      "attachments":{
        
      },
      "metadata":{
        
      }
    },
    {
      "cell_type":"markdown",
      "source":[
        "<div align=\"center\"><video width=\"560\" height=\"315\" poster=\"https:\/\/datalore-samples.s3.eu-west-1.amazonaws.com\/datalore_gallery_of_samples\/Getting+started\/Getting_started_videos\/Working_with_data.png\" controls>\n",
        "\n",
        "<source src=\"https:\/\/datalore-samples.s3.eu-west-1.amazonaws.com\/datalore_gallery_of_samples\/Getting+started\/Getting_started_videos\/Working_with_data.mp4\" type=\"video\/mp4\">\n",
        "\n",
        "<\/video><\/div>"
      ],
      "attachments":{
        
      },
      "metadata":{
        
      }
    },
    {
      "cell_type":"markdown",
      "source":[
        "\n",
        "\n",
        "## Uploading files and folders to notebooks\n",
        "\n",
        "The primary way of working with files in Datalore is to upload them to a notebook.\n",
        "\n",
        "With the ***Attached files*** tool on the left sidebar you can:\n",
        "- Upload files\n",
        "- Upload folders\n",
        "- Upload files from a URL (make sure you are copying the link to the raw file and not to the HTML representation of it)\n",
        "- Access the files that you've downloaded from code (f.e. using urllib library)\n",
        "\n",
        "\n",
        "### Benefits of attaching files to a notebook\n",
        "\n",
        "- Your workspace file system won't be cluttered with too many files.\n",
        "- Notebook files are shared automatically when you invite collaborators to the notebook.\n"
      ],
      "attachments":{
        
      },
      "metadata":{
        
      }
    },
    {
      "cell_type":"markdown",
      "source":[
        "## Task 1: Download a file and check the *Attached files* tool\n",
        "\n",
        "- Run the code cell below using `Shift+Enter`.\n",
        "- Open the Attached files tool and reload the attachment list.\n",
        "- *(Optional)* Try uploading a dataset from your computer.\n",
        "\n",
        "<div><img src=\"https:\/\/datalore-samples.s3.eu-west-1.amazonaws.com\/datalore_gallery_of_samples\/Getting+started\/Attached_files.png\" width = 300 border=\"1\" style=\"border-color: #d3d3d3; margin-top: 1%;\"\/><\/div>"
      ],
      "attachments":{
        
      },
      "metadata":{
        
      }
    },
    {
      "cell_type":"code",
      "source":[
        "import urllib\n",
        "import pandas as pd\n",
        "\n",
        "urllib.request.urlretrieve('https:\/\/datalore-samples.s3.eu-west-1.amazonaws.com\/datalore_gallery_of_samples\/Getting+started\/gpus.csv', 'gpus.csv')\n",
        "\n",
        "data = pd.read_csv(\"gpus.csv\")\n",
        "data"
      ],
      "execution_count":null,
      "outputs":[
        
      ],
      "metadata":{
        
      }
    },
    {
      "cell_type":"markdown",
      "source":[
        "## Task 2: Check out auto-generated plots\n",
        "\n",
        "1. Run the cell above.\n",
        "2. Go to the ***Visualize tab***.\n",
        "3. Select the *Bar* option.\n",
        "4. Switch between different X parameters.\n",
        "5. Click *Export code to cell*.\n",
        "6. Continue tuning the plot's parameters with the [Let's plot](https:\/\/github.com\/JetBrains\/lets-plot) library."
      ],
      "attachments":{
        
      },
      "metadata":{
        
      }
    },
    {
      "cell_type":"markdown",
      "source":[
        "## When to use workspace files\n",
        "\n",
        "Workspace files can come in very handy when you want to work with the same files across several notebooks.\n",
        "\n",
        "Workspace files are mounted under the `\/data\/workspace_files\/` directory. You can copy the path to any workspace file using the file context menu.\n",
        "\n",
        "You can upload workspace files using:\n",
        "- The *Attached files | Workspace tab*.\n",
        "- The *Workspace files* tab in your workspace file system.\n",
        "- The file context menu and moving any file attached to a notebook to `Workspace files`.\n",
        "\n",
        "<div><img src=\"https:\/\/datalore-samples.s3.eu-west-1.amazonaws.com\/datalore_gallery_of_samples\/Getting+started\/Move_to_workspace.png\" width = 300 border=\"1\" style=\"border-color: #d3d3d3; margin-top: 1%;\"\/><\/div>\n",
        "\n",
        "For more info, take a look at the [documentation.](https:\/\/www.jetbrains.com\/help\/datalore\/dl-manage-attached-files.html)."
      ],
      "attachments":{
        
      },
      "metadata":{
        
      }
    },
    {
      "cell_type":"markdown",
      "source":[
        "\n",
        "## Mounting S3 buckets\n",
        "\n",
        "In Datalore, you can mount Amazon S3 buckets.\n",
        "\n",
        "To mount an S3 bucket:\n",
        "1. Open *Tools | Attached datasources* from the main menu.\n",
        "2. In the *Attached datasources* view that opens, click *Add S3 datasource* and specify the credentials.\n",
        "3. Follow the prompt to restart the kernel.\n",
        "4. Voila! Your S3 datasource is now mounted."
      ],
      "attachments":{
        
      },
      "metadata":{
        
      }
    },
    {
      "cell_type":"markdown",
      "source":[
        "# Managing the environment"
      ],
      "attachments":{
        
      },
      "metadata":{
        
      }
    },
    {
      "cell_type":"markdown",
      "source":[
        "<div align=\"center\"><video width=\"560\" height=\"315\" poster=\"https:\/\/datalore-samples.s3.eu-west-1.amazonaws.com\/datalore_gallery_of_samples\/Getting+started\/Getting_started_videos\/Managing_the_environment.png\" controls>\n",
        "\n",
        "<source src=\"https:\/\/datalore-samples.s3.eu-west-1.amazonaws.com\/datalore_gallery_of_samples\/Getting+started\/Getting_started_videos\/Managing_the_environment.mp4\" type=\"video\/mp4\">\n",
        "\n",
        "<\/video><\/div>"
      ],
      "attachments":{
        
      },
      "metadata":{
        
      }
    },
    {
      "cell_type":"markdown",
      "source":[
        "\n",
        "\n",
        "## Preconfigured environment\n",
        "\n",
        "Each notebook in Datalore has an **isolated environment**. This means that when you apply changes to one notebook they won't affect any of the other notebook environments.\n",
        "\n",
        "Datalore comes with a lot of **Python libraries pre-installed**.\n",
        "\n",
        "We've already installed `pandas`, `NumPy`, `sklearn`, `MatplotLib`, and `Seaborn` so you can start importing the package you need right away.\n",
        "\n",
        "Datalore supports both **pip** and **Conda** package managers. Pip is chosen by default, but you can always switch to Conda.\n",
        "\n",
        "<div><img src=\"https:\/\/datalore-samples.s3.eu-west-1.amazonaws.com\/datalore_gallery_of_samples\/Getting+started\/Library_manager.png\" width = 300 border=\"1\" style=\"border-color: #d3d3d3; margin-top: 1%;\"\/><\/div>\n",
        "\n",
        "## Installing additional libraries\n",
        "\n",
        "- To install additional libraries, upgrade the package versions or remove libraries, go to *Library Manager | Explore tab*.\n",
        "- To install a package from a Git repository, go to *Library manager | Repositories*.\n",
        "  \n",
        "💡 Packages installed via the **Library manager** are **persisted** when you reopen notebooks. You can also install packages using **pip magic commands** or ***Terminal***, but they won't be persisted.\n",
        "\n",
        "You can learn more about this in the [Library manager documentation.](https:\/\/www.jetbrains.com\/help\/datalore\/environment.html)."
      ],
      "attachments":{
        
      },
      "metadata":{
        
      }
    },
    {
      "cell_type":"markdown",
      "source":[
        "## Task 3: Install and import datasets libray\n",
        "\n",
        "1. Run the code cell below using `Shift+Enter`.\n",
        "2. **Click on the prompt in the error log to search for the datasets library. This prompt will open the *Explore tab* of *Library manager*.**\n",
        "3. Click on the datasets library.\n",
        "4. Click the Install button.\n",
        "5. Restart the kernel.\n",
        "6. Rerun the cell."
      ],
      "attachments":{
        
      },
      "metadata":{
        
      }
    },
    {
      "cell_type":"code",
      "source":[
        "import datasets\n",
        "\n",
        "datasets.__version__"
      ],
      "execution_count":null,
      "outputs":[
        
      ],
      "metadata":{
        
      }
    },
    {
      "cell_type":"markdown",
      "source":[
        "# Collaborating with your team"
      ],
      "attachments":{
        
      },
      "metadata":{
        
      }
    },
    {
      "cell_type":"markdown",
      "source":[
        "<div align=\"center\"><video width=\"560\" height=\"315\" poster=\"https:\/\/datalore-samples.s3.eu-west-1.amazonaws.com\/datalore_gallery_of_samples\/Getting+started\/Getting_started_videos\/Collaborating_with_your_team.png\" controls>\n",
        "\n",
        "<source src=\"https:\/\/datalore-samples.s3.eu-west-1.amazonaws.com\/datalore_gallery_of_samples\/Getting+started\/Getting_started_videos\/Collaborating_with_your_team.mp4\" type=\"video\/mp4\">\n",
        "\n",
        "<\/video><\/div>"
      ],
      "attachments":{
        
      },
      "metadata":{
        
      }
    },
    {
      "cell_type":"markdown",
      "source":[
        "\n",
        "## Sharing a notebook\n",
        "\n",
        "In Datalore, you can edit notebooks together with your team in real-time.\n",
        "\n",
        "Click on the share button in the top-right corner and choose your preferred sharing method:\n",
        "- Share by sending a link (the simpler option).\n",
        "- Invite collaborators by email (for more granular permissions).\n",
        "  \n",
        "💡 To access notebooks as collaborators, invited users will need to create a Datalore account.\n",
        "\n",
        "<div><img src=\"https:\/\/datalore-samples.s3.eu-west-1.amazonaws.com\/datalore_gallery_of_samples\/Getting+started\/Sharing.png\" width = 300 border=\"1\" style=\"border-color: #d3d3d3; margin-top: 1%;\"\/><\/div>\n",
        "\n",
        "When sharing a notebook you can provide either edit or view access.\n",
        "- **Edit access** will allow collaborators to edit code and attached files and run computations.\n",
        "  \n",
        "  ⚠️ Note that collaborators will consume the notebook owner's resources.\n",
        "- **View access** will only allow users to see the real-time representation of the notebook.\n",
        "  \n",
        "To track the changes, Datalore has a **built-in version control system** where you can create history checkpoints and revert the notebook to past versions. Check this out via ***Tools | History***.\n",
        "\n",
        "You can read more about notebook sharing [here](https:\/\/www.jetbrains.com\/help\/datalore\/share-a-notebook.html)."
      ],
      "attachments":{
        
      },
      "metadata":{
        
      }
    },
    {
      "cell_type":"markdown",
      "source":[
        "## Task 4: Invite your friends to Datalore!\n",
        "\n",
        "Try out the real-time collaboration feature with your friends. Working together can be really fun 🚀\n",
        "\n",
        "<div><img src=\"https:\/\/datalore-samples.s3.eu-west-1.amazonaws.com\/datalore_gallery_of_samples\/Getting+started\/Collaborate.png\" width = 500 border=\"0\" style=\"border-color: #d3d3d3; margin-top: 1%;\"\/><\/div>"
      ],
      "attachments":{
        
      },
      "metadata":{
        
      }
    },
    {
      "cell_type":"markdown",
      "source":[
        "## Sharing a report\n",
        "\n",
        "### Publish a notebook\n",
        "\n",
        "To share the results of your work, you can publish a static copy of a notebook and use a link to share it with anyone.\n",
        "\n",
        "<div><img src=\"https:\/\/datalore-samples.s3.eu-west-1.amazonaws.com\/datalore_gallery_of_samples\/Getting+started\/Publish.png\" width = 300 border=\"1\" style=\"border-color: #d3d3d3; margin-top: 1%;\"\/><\/div>\n",
        "\n",
        "Check out how this notebook looks when published by following this [link](https:\/\/datalore.jetbrains.com\/view\/notebook\/f0vEOMgn34rzL2bmfaqcoz).\n",
        "\n",
        "To make a published notebook more accessible to non-technical users, you can **hide code inputs and outputs** by pressing the eye icon in the top-right corner of the cell. To hide all inputs or outputs, go to the *View* menu tab.\n",
        "\n",
        "<div><img src=\"https:\/\/datalore-samples.s3.eu-west-1.amazonaws.com\/datalore_gallery_of_samples\/Getting+started\/Hide.png\" width = 300 border=\"1\" style=\"border-color: #d3d3d3; margin-top: 1%;\"\/><\/div>\n",
        "\n",
        "\n",
        "### Export as PDF, PY, IPYNB\n",
        "\n",
        "You can export notebooks in multiple formats, including PDF.\n",
        "\n",
        "Go to the *File* menu tab and select the export option you need.\n"
      ],
      "attachments":{
        
      },
      "metadata":{
        
      }
    },
    {
      "cell_type":"markdown",
      "source":[
        "## Sharing a workspace\n",
        "\n",
        "In Datalore, you can create and share workspaces.\n",
        "\n",
        "Workspaces help you organize your work and allow you to easily share multiple notebooks and datasets with your team.\n",
        "\n",
        "\n",
        "<div><img src=\"https:\/\/datalore-samples.s3.eu-west-1.amazonaws.com\/datalore_gallery_of_samples\/Getting+started\/workspace.png\" width = 300 border=\"1\" style=\"border-color: #d3d3d3; margin-top: 1%;\"\/><\/div>\n",
        "\n",
        "⚠️ Note that the workspace owner's resources will be consumed for all the computations made in the workspace."
      ],
      "attachments":{
        
      },
      "metadata":{
        
      }
    },
    {
      "cell_type":"markdown",
      "source":[
        "# Running code"
      ],
      "attachments":{
        
      },
      "metadata":{
        
      }
    },
    {
      "cell_type":"markdown",
      "source":[
        "<div align=\"center\"><video width=\"560\" height=\"315\" poster=\"https:\/\/datalore-samples.s3.eu-west-1.amazonaws.com\/datalore_gallery_of_samples\/Getting+started\/Getting_started_videos\/Running_code.png\" controls>\n",
        "\n",
        "<source src=\"https:\/\/datalore-samples.s3.eu-west-1.amazonaws.com\/datalore_gallery_of_samples\/Getting+started\/Getting_started_videos\/Running_code.mp4\" type=\"video\/mp4\">\n",
        "\n",
        "<\/video><\/div>"
      ],
      "attachments":{
        
      },
      "metadata":{
        
      }
    },
    {
      "cell_type":"markdown",
      "source":[
        "\n",
        "\n",
        "## Switching between CPU and GPU\n",
        "\n",
        "When running a notebook you can choose between Basic, Large, and GPU machines according to your needs.\n",
        "\n",
        "<div><img src=\"https:\/\/datalore-samples.s3.eu-west-1.amazonaws.com\/datalore_gallery_of_samples\/Getting+started\/Machines.png\" width = 300 border=\"1\" style=\"border-color: #d3d3d3; margin-top: 1%;\"\/><\/div>\n",
        "\n",
        "These machines differ in terms of RAM, VRAM, and number of CPU and GPU cores. You can always find the computation status bar at the bottom right of the editor.\n",
        " \n",
        "▶️ The Free Community plan includes 120 hours of Basic machine computations. If you want to use Large and GPU machines or you need more Basic machine time, consider switching to [Datalore Professional](https:\/\/datalore.jetbrains.com\/pricing).\n",
        " \n",
        "Find more information in our [pricing and plans documentation section](https:\/\/www.jetbrains.com\/help\/datalore\/dl-pricing.html).\n",
        "\n",
        "## Background computation\n",
        " \n",
        "Switching on Background computations from the Run menu tab allows you to keep notebooks running even if you close the browser tab.\n",
        " \n",
        "The Free Community plan includes 6 hours of Background computations per session, while on the Professional plan this is unlimited.\n",
        " \n",
        "⚠️ Be careful when switching on Background computation, as it will consume your computation quota."
      ],
      "attachments":{
        
      },
      "metadata":{
        
      }
    },
    {
      "cell_type":"markdown",
      "source":[
        "\n",
        "# Shortcuts 101\n",
        "\n",
        "Datalore supports a wide variety of Jupyter and PyCharm shortcuts. You can access the full list from *Help | Shortcuts* or by pressing `Shift+F1`.\n",
        "\n",
        "<div><img src=\"https:\/\/datalore-samples.s3.eu-west-1.amazonaws.com\/datalore_gallery_of_samples\/Getting+started\/Shortcuts.png\" width = 300 border=\"1\" style=\"border-color: #d3d3d3; margin-top: 1%;\"\/><\/div>\n",
        "\n",
        "## Command mode and Editor mode\n",
        "\n",
        "There are two modes for shortcuts: Command mode and Editor mode.\n",
        "\n",
        "When editing a cell's content you are in Editor mode. To access Command mode, which allows you to manipulate the cells themselves, press `Esc`. To switch back to Editor mode, press `Enter`."
      ],
      "attachments":{
        
      },
      "metadata":{
        
      }
    },
    {
      "cell_type":"markdown",
      "source":[
        "## Shortcuts you might need:\n",
        "\n",
        "- Run the selected cell and select below: `Shift+Enter`.\n",
        "- Change cell type: `Command+M\/Ctrl+M`.\n",
        "- Undo action: `Command+Z\/Ctrl+Z`.\n",
        "- Delete cell: `DD` (Command mode).\n",
        "- Insert cell above: `A` (Command mode).\n",
        "- Insert cell below: `B` (Command mode).\n",
        "- Copy selected cells: `C` (Command mode).\n",
        "- Cut selected cells: `X` (Command mode).\n",
        "- Past below: `V` (Command mode)."
      ],
      "attachments":{
        
      },
      "metadata":{
        
      }
    },
    {
      "cell_type":"markdown",
      "source":[
        "## Command palette\n",
        "\n",
        "Access quick actions using the Command palette from the Help menu tab.\n",
        "\n",
        "<div><img src=\"https:\/\/datalore-samples.s3.eu-west-1.amazonaws.com\/datalore_gallery_of_samples\/Getting+started\/Command_palette.png\" width = 300 border=\"1\" style=\"border-color: #d3d3d3; margin-top: 1%;\"\/><\/div>"
      ],
      "attachments":{
        
      },
      "metadata":{
        
      }
    },
    {
      "cell_type":"markdown",
      "source":[
        "# Tutorial Gallery & Updates & Contact info\n",
        "\n",
        "## Basic tutorials\n",
        "\n",
        "- [Pandas Tutorial: 10 Most Popular Questions for Python Data Frames.](https:\/\/datalore.jetbrains.com\/view\/notebook\/6gojhrbqOlQNBil7H542XF)\n",
        "- [Visualization Tutorial With Seaborn.](https:\/\/datalore.jetbrains.com\/view\/notebook\/v8mLoENq8XTfmStTCLNMV6)\n",
        "- [Visualization With Pyplot in Datalore.](https:\/\/datalore.jetbrains.com\/view\/notebook\/Rk9o3SlkJAd47e8plzm0dV)\n",
        "- [Interactive Controls Tutorial.](https:\/\/datalore.jetbrains.com\/view\/notebook\/sQPS7uBqNrBiu7t7uQXV74)\n",
        "- [Lets-Plot Usage Guide.](https:\/\/datalore.jetbrains.com\/view\/notebook\/nsYaTYEEYG1wGIaqa2bWr5)\n",
        "\n",
        "## Cool notebook samples\n",
        "\n",
        "- [10,000,000 Jupyter Notebooks Analyzed.](https:\/\/datalore.jetbrains.com\/view\/notebook\/F7aMWFiuETFIWCo9BoxAtv)\n",
        "- [Random Forest, Trees, and Stumps 🌳🌴🌲 A General Overview of Binary Classification Models.](https:\/\/datalore.jetbrains.com\/view\/notebook\/feUEhlTKRkbohY59fq18fN)"
      ],
      "attachments":{
        
      },
      "metadata":{
        
      }
    },
    {
      "cell_type":"markdown",
      "source":[
        "\n",
        "## How to learn about new features\n",
        "\n",
        "We always post the latest Datalore news to our [blog at JetBrains.com](https:\/\/blog.jetbrains.com\/datalore\/) and we keep our [Changelog notebook](https:\/\/datalore.jetbrains.com\/view\/notebook\/jc0xdkfdj4QR2XTQdS0dZp) up to date.\n",
        "\n",
        "Follow our [Twitter](https:\/\/twitter.com\/JBDatalore) for #HowToDatalore short tutorials and recent news."
      ],
      "attachments":{
        
      },
      "metadata":{
        
      }
    },
    {
      "cell_type":"markdown",
      "source":[
        "## How to get support\n",
        "\n",
        "What really helps us make the Datalore product better is your feedback. Our team is always thankful to receive your input and we certainly appreciate it when you report bugs.\n",
        "\n",
        "You can share feedback and report issues by:\n",
        "\n",
        "- Writing a post on our [public forum](https:\/\/datalore-forum.jetbrains.com\/).\n",
        "- Using our feedback form.\n",
        "  <div><img src=\"https:\/\/datalore-samples.s3.eu-west-1.amazonaws.com\/datalore_gallery_of_samples\/Getting+started\/feedback.png\" width = 300 border=\"1\" style=\"border-color: #d3d3d3; margin-top: 1%;\"\/><\/div>"
      ],
      "attachments":{
        
      },
      "metadata":{
        
      }
    }
  ],
  "metadata":{
    
  },
  "nbformat":4,
  "nbformat_minor":0
}